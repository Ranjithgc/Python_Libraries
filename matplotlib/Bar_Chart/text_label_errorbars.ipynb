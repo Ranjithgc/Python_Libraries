{
 "cells": [
  {
   "cell_type": "markdown",
   "metadata": {},
   "source": [
    "***@Author: Ranjith G C***\n",
    "<br>\n",
    "***@Date: 2021-07-14***\n",
    "<br>\n",
    "***@Last Modified by: Ranjith G C***\n",
    "<br>@\n",
    "***Last Modified time: 2021-07-14***\n",
    "<br>\n",
    "***@Title : Program Aim to create bar plots with errorbars on the same figure. Attach a text label above each bar displaying men means (integer value).***"
   ]
  },
  {
   "cell_type": "code",
   "execution_count": 2,
   "metadata": {},
   "outputs": [
    {
     "data": {
      "image/png": "[encoded data removed]",
      "text/plain": [
       "<matplotlib.figure.Figure at 0x7f0712cb03c8>"
      ]
     },
     "metadata": {
      "needs_background": "light"
     },
     "output_type": "display_data"
    }
   ],
   "source": [
    "import numpy as np\n",
    "import matplotlib.pyplot as plt\n",
    "import matplotlib.patches as mpatches\n",
    "from loggers import logger\n",
    "\n",
    "try:\n",
    "    N = 5\n",
    "    men_means = (54.74, 42.35, 67.37, 58.24, 30.25)\n",
    "    men_std= (4, 3, 4, 1, 5)\n",
    "\n",
    "    ind = np.arange(N)  # the x locations for the groups\n",
    "    width = 0.35       # the width of the bars\n",
    "\n",
    "    fig, ax = plt.subplots()\n",
    "    rects1 = ax.bar(ind, men_means, width, color='r', yerr=men_std)\n",
    "\n",
    "    # add some text for labels, title and axes ticks\n",
    "    plt.ylabel('Scores')\n",
    "    plt.xlabel('Velocity')\n",
    "    plt.title('Scores by Velocity')\n",
    "\n",
    "    red_patch = mpatches.Patch(color='red', label='Men')\n",
    "    plt.legend(handles=[red_patch])\n",
    "except Exception as e:\n",
    "    logger.error(e)\n",
    "\n",
    "def autolabel(rects):\n",
    "    \"\"\"\n",
    "    Description:\n",
    "        Attach a text label above each bar displaying its height.\n",
    "    Parameter:\n",
    "        it takes rects as parameter.\n",
    "    \"\"\"\n",
    "    for rect in rects:\n",
    "       height = rect.get_height()\n",
    "       ax.text(rect.get_x() + rect.get_width()/2., 1.05*height,\n",
    "                '%d' % int(height),\n",
    "       ha='center', va='bottom')\n",
    "\n",
    "autolabel(rects1)\n",
    "plt.show()\n"
   ]
  }
 ],
 "metadata": {
  "interpreter": {
   "hash": "31f2aee4e71d21fbe5cf8b01ff0e069b9275f58929596ceb00d14d90e3e16cd6"
  },
  "kernelspec": {
   "display_name": "Python 3.6.9 64-bit",
   "name": "python3"
  },
  "language_info": {
   "codemirror_mode": {
    "name": "ipython",
    "version": 3
   },
   "file_extension": ".py",
   "mimetype": "text/x-python",
   "name": "python",
   "nbconvert_exporter": "python",
   "pygments_lexer": "ipython3",
   "version": "3.6.9"
  },
  "orig_nbformat": 4
 },
 "nbformat": 4,
 "nbformat_minor": 2
}