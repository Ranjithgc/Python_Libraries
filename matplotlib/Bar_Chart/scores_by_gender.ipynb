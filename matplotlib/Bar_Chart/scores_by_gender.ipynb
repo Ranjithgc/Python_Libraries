{
 "cells": [
  {
   "cell_type": "markdown",
   "metadata": {},
   "source": [
    "***@Author: Ranjith G C***\n",
    "<br>\n",
    "***@Date: 2021-07-14***\n",
    "<br>\n",
    "***@Last Modified by: Ranjith G C***\n",
    "<br>@\n",
    "***Last Modified time: 2021-07-14***\n",
    "<br>\n",
    "***@Title : Program Aim to create bar plot of scores by group and gender. Use multiple X values on the same chart for men and women.***"
   ]
  },
  {
   "cell_type": "code",
   "execution_count": 2,
   "metadata": {},
   "outputs": [
    {
     "data": {
      "image/png": "[encoded data removed]",
      "text/plain": [
       "<matplotlib.figure.Figure at 0x7fdc65d62518>"
      ]
     },
     "metadata": {
      "needs_background": "light"
     },
     "output_type": "display_data"
    }
   ],
   "source": [
    "import numpy as np\n",
    "import matplotlib.pyplot as plt\n",
    "from loggers import logger\n",
    "\n",
    "try:\n",
    "    # data to plot\n",
    "    n_groups = 5\n",
    "    men_means = (22, 30, 33, 30, 26)\n",
    "    women_means = (25, 32, 30, 35, 29)\n",
    "\n",
    "    # create plot\n",
    "    fig, ax = plt.subplots()\n",
    "    index = np.arange(n_groups)\n",
    "    bar_width = 0.35\n",
    "    opacity = 0.8\n",
    "\n",
    "    rects1 = plt.bar(index, men_means, bar_width,\n",
    "             alpha=opacity, color='g', label='Men')\n",
    "\n",
    "    rects2 = plt.bar(index + bar_width, women_means, bar_width,\n",
    "             alpha=opacity, color='r', label='Women')\n",
    "\n",
    "    plt.xlabel('Person')\n",
    "    plt.ylabel('Scores')\n",
    "    plt.title('Scores by person')\n",
    "    plt.xticks(index + bar_width, ('G1', 'G2', 'G3', 'G4', 'G5'))\n",
    "    plt.legend()\n",
    "\n",
    "    plt.tight_layout()\n",
    "    plt.show()\n",
    "except Exception as e:\n",
    "    logger.error(e)"
   ]
  }
 ],
 "metadata": {
  "interpreter": {
   "hash": "31f2aee4e71d21fbe5cf8b01ff0e069b9275f58929596ceb00d14d90e3e16cd6"
  },
  "kernelspec": {
   "display_name": "Python 3.6.9 64-bit",
   "name": "python3"
  },
  "language_info": {
   "codemirror_mode": {
    "name": "ipython",
    "version": 3
   },
   "file_extension": ".py",
   "mimetype": "text/x-python",
   "name": "python",
   "nbconvert_exporter": "python",
   "pygments_lexer": "ipython3",
   "version": "3.6.9"
  },
  "orig_nbformat": 4
 },
 "nbformat": 4,
 "nbformat_minor": 2
}