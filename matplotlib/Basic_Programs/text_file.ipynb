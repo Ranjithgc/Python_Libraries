{
 "cells": [
  {
   "cell_type": "markdown",
   "metadata": {},
   "source": [
    "***@Author: Ranjith G C***\n",
    "<br>\n",
    "***@Date: 2021-07-13***\n",
    "<br>\n",
    "***@Last Modified by: Ranjith G C***\n",
    "<br>\n",
    "***@Last Modified time: 2021-07-13***\n",
    "<br>\n",
    "***@Title : Program Aim to draw a line using given axis values taken from a text file, with suitable label in the x axis, y axis and a title.*** "
   ]
  },
  {
   "cell_type": "code",
   "execution_count": 3,
   "metadata": {},
   "outputs": [
    {
     "data": {
      "image/png": "[encoded data removed]",
      "text/plain": [
       "<matplotlib.figure.Figure at 0x7f3714da9f98>"
      ]
     },
     "metadata": {
      "needs_background": "light"
     },
     "output_type": "display_data"
    }
   ],
   "source": [
    "import matplotlib.pyplot as plt\n",
    "from loggers import logger\n",
    "\n",
    "try:\n",
    "\n",
    "    with open(\"test.txt\") as f:\n",
    "        data = f.read()\n",
    "    data = data.split('\\n')\n",
    "    \n",
    "    x = [row.split(' ')[0] for row in data]\n",
    "    y = [row.split(' ')[1] for row in data]\n",
    "    plt.plot(x, y)\n",
    "    # Set the x axis label of the current axis.\n",
    "    plt.xlabel('x - axis')\n",
    "    # Set the y axis label of the current axis.\n",
    "    plt.ylabel('y - axis')\n",
    "    # Set a title \n",
    "    plt.title('Sample graph!')\n",
    "    # Display a figure.\n",
    "    plt.show()\n",
    "\n",
    "except Exception as e:\n",
    "    logger.error(e)"
   ]
  }
 ],
 "metadata": {
  "interpreter": {
   "hash": "31f2aee4e71d21fbe5cf8b01ff0e069b9275f58929596ceb00d14d90e3e16cd6"
  },
  "kernelspec": {
   "display_name": "Python 3.6.9 64-bit",
   "name": "python3"
  },
  "language_info": {
   "codemirror_mode": {
    "name": "ipython",
    "version": 3
   },
   "file_extension": ".py",
   "mimetype": "text/x-python",
   "name": "python",
   "nbconvert_exporter": "python",
   "pygments_lexer": "ipython3",
   "version": "3.6.9"
  },
  "orig_nbformat": 4
 },
 "nbformat": 4,
 "nbformat_minor": 2
}