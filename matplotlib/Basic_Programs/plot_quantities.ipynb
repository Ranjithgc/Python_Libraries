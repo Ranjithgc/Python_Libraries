{
 "cells": [
  {
   "cell_type": "markdown",
   "metadata": {},
   "source": [
    "***@Author: Ranjith G C***\n",
    "<br>\n",
    "***@Date: 2021-07-13***\n",
    "<br>\n",
    "***@Last Modified by: Ranjith G C***\n",
    "<br>\n",
    "***@Last Modified time: 2021-07-13***\n",
    "<br>\n",
    "***@Title : Program Aim to plot quantities which have an x and y position.***\n",
    "<br> "
   ]
  },
  {
   "cell_type": "code",
   "execution_count": 3,
   "metadata": {},
   "outputs": [
    {
     "data": {
      "image/png": "[encoded data removed]",
      "text/plain": [
       "<matplotlib.figure.Figure at 0x7fead666ea90>"
      ]
     },
     "metadata": {
      "needs_background": "light"
     },
     "output_type": "display_data"
    }
   ],
   "source": [
    "import numpy as np\n",
    "import pylab as pl\n",
    "from loggers import logger\n",
    "\n",
    "try:\n",
    "    # Make an array of x values\n",
    "    x1 = [2, 3, 5, 6, 8]\n",
    "    # Make an array of y values for each x value\n",
    "    y1 = [1, 5, 10, 18, 20]\n",
    "    \n",
    "    # Make an array of x values\n",
    "    x2 = [3, 4, 6, 7, 9]\n",
    "    # Make an array of y values for each x value\n",
    "    y2 = [2, 6, 11, 20, 22]\n",
    "\n",
    "    # set new axes limits\n",
    "    pl.axis([0, 10, 0, 30]) \n",
    "    # use pylab to plot x and y as red circles\n",
    "    pl.plot(x1, y1,'b*', x2, y2, 'ro')\n",
    "    # show the plot on the screen\n",
    "    pl.show()\n",
    "except Exception as e:\n",
    "    logger.error(e)"
   ]
  }
 ],
 "metadata": {
  "interpreter": {
   "hash": "31f2aee4e71d21fbe5cf8b01ff0e069b9275f58929596ceb00d14d90e3e16cd6"
  },
  "kernelspec": {
   "display_name": "Python 3.6.9 64-bit",
   "name": "python3"
  },
  "language_info": {
   "codemirror_mode": {
    "name": "ipython",
    "version": 3
   },
   "file_extension": ".py",
   "mimetype": "text/x-python",
   "name": "python",
   "nbconvert_exporter": "python",
   "pygments_lexer": "ipython3",
   "version": "3.6.9"
  },
  "orig_nbformat": 4
 },
 "nbformat": 4,
 "nbformat_minor": 2
}