{
 "cells": [
  {
   "cell_type": "markdown",
   "metadata": {},
   "source": [
    "***@Author: Ranjith G C***\n",
    "<br>\n",
    "***@Date: 2021-07-13***\n",
    "<br>\n",
    "***@Last Modified by: Ranjith G C***\n",
    "<br>\n",
    "***@Last Modified time: 2021-07-13***\n",
    "<br>\n",
    "***@Title : Program Aim to display the grid and draw line charts of the closing value of Alphabet Inc. between October 3, 2016 to October 7, 2016. Customized the grid lines with linestyle -, width .5. and color blue.***\n",
    "<br> "
   ]
  },
  {
   "cell_type": "code",
   "execution_count": 3,
   "metadata": {},
   "outputs": [
    {
     "data": {
      "image/png": "[encoded data removed]",
      "text/plain": [
       "<matplotlib.figure.Figure at 0x7f3a55a31438>"
      ]
     },
     "metadata": {
      "needs_background": "light"
     },
     "output_type": "display_data"
    }
   ],
   "source": [
    "import datetime as DT\n",
    "from matplotlib import pyplot as plt\n",
    "from matplotlib.dates import date2num\n",
    "from loggers import logger\n",
    "\n",
    "try:\n",
    "    data = [(DT.datetime.strptime('2016-10-03', \"%Y-%m-%d\"), 772.559998),\n",
    "            (DT.datetime.strptime('2016-10-04', \"%Y-%m-%d\"), 776.429993),\n",
    "            (DT.datetime.strptime('2016-10-05', \"%Y-%m-%d\"), 776.469971),\n",
    "            (DT.datetime.strptime('2016-10-06', \"%Y-%m-%d\"), 776.859985),\n",
    "            (DT.datetime.strptime('2016-10-07', \"%Y-%m-%d\"), 775.080017 )]\n",
    "\n",
    "    x = [date2num(date) for (date, value) in data]\n",
    "    y = [value for (date, value) in data]\n",
    "\n",
    "    fig = plt.figure()\n",
    "\n",
    "    graph = fig.add_subplot(111)\n",
    "\n",
    "    # Plot the data as a red line with round markers\n",
    "    graph.plot(x,y,'r-o')\n",
    "\n",
    "    # Set the xtick locations\n",
    "    graph.set_xticks(x)\n",
    "\n",
    "    # Set the xtick labels\n",
    "    graph.set_xticklabels(\n",
    "            [date.strftime(\"%Y-%m-%d\") for (date, value) in data]\n",
    "            )\n",
    "\n",
    "    # naming the x axis\n",
    "    plt.xlabel('Date')\n",
    "    # naming the y axis\n",
    "    plt.ylabel('Closing Value')\n",
    "    # giving a title  \n",
    "    plt.title('Closing stock value of Alphabet Inc.') \n",
    "    # Customize the grid\n",
    "    plt.grid(linestyle='-', linewidth='0.5', color='blue')\n",
    "    plt.show()\n",
    "except Exception as e:\n",
    "    logger.error(e)"
   ]
  }
 ],
 "metadata": {
  "interpreter": {
   "hash": "31f2aee4e71d21fbe5cf8b01ff0e069b9275f58929596ceb00d14d90e3e16cd6"
  },
  "kernelspec": {
   "display_name": "Python 3.6.9 64-bit",
   "name": "python3"
  },
  "language_info": {
   "codemirror_mode": {
    "name": "ipython",
    "version": 3
   },
   "file_extension": ".py",
   "mimetype": "text/x-python",
   "name": "python",
   "nbconvert_exporter": "python",
   "pygments_lexer": "ipython3",
   "version": "3.6.9"
  },
  "orig_nbformat": 4
 },
 "nbformat": 4,
 "nbformat_minor": 2
}