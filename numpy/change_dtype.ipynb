{
 "cells": [
  {
   "cell_type": "markdown",
   "metadata": {},
   "source": [
    "***@Author: Ranjith G C***\n",
    "<br>\n",
    "***@Date: 2021-07-12***\n",
    "<br>\n",
    "***@Last Modified by: Ranjith G C***\n",
    "<br>\n",
    "***@Last Modified time: 2021-07-12*** \n",
    "<br>\n",
    "***@Title : Program Aim to change the datatype of an array.***"
   ]
  },
  {
   "cell_type": "code",
   "execution_count": 1,
   "metadata": {},
   "outputs": [
    {
     "name": "stdout",
     "output_type": "stream",
     "text": [
      "[[ 2  4  6]\n",
      " [ 6  8 10]]\n",
      "Data type of the array x is: int32\n",
      "New Type:  float64\n",
      "[[ 2.  4.  6.]\n",
      " [ 6.  8. 10.]]\n"
     ]
    }
   ],
   "source": [
    "import numpy as np\n",
    "from loggers import logger\n",
    "try:\n",
    "    arr = np.array([[2, 4, 6], [6, 8, 10]], np.int32)\n",
    "    print(arr)\n",
    "    print(\"Data type of the array x is:\", arr.dtype)\n",
    "    # Change the data type of x\n",
    "    arr1 = arr.astype(float)\n",
    "    print(\"New Type: \", arr1.dtype)\n",
    "    print(arr1)\n",
    "except Exception as e:\n",
    "    logger.error(e)"
   ]
  }
 ],
 "metadata": {
  "interpreter": {
   "hash": "31f2aee4e71d21fbe5cf8b01ff0e069b9275f58929596ceb00d14d90e3e16cd6"
  },
  "kernelspec": {
   "display_name": "Python 3.6.9 64-bit",
   "name": "python3"
  },
  "language_info": {
   "codemirror_mode": {
    "name": "ipython",
    "version": 3
   },
   "file_extension": ".py",
   "mimetype": "text/x-python",
   "name": "python",
   "nbconvert_exporter": "python",
   "pygments_lexer": "ipython3",
   "version": "3.6.9"
  },
  "orig_nbformat": 4
 },
 "nbformat": 4,
 "nbformat_minor": 2
}