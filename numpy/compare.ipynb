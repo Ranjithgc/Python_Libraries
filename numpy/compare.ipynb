{
 "cells": [
  {
   "cell_type": "markdown",
   "metadata": {},
   "source": [
    "***@Author: Ranjith G C***\n",
    "<br>\n",
    "***@Date: 2021-07-12***\n",
    "<br>\n",
    "***@Last Modified by: Ranjith G C***\n",
    "<br>\n",
    "***@Last Modified time: 2021-07-12*** \n",
    "<br>\n",
    "***@Title : Program Aim to compare two arrays.***"
   ]
  },
  {
   "cell_type": "code",
   "execution_count": 1,
   "metadata": {},
   "outputs": [
    {
     "name": "stdout",
     "output_type": "stream",
     "text": [
      "Array a:  [1 3 7]\n",
      "Array b:  [4 5 6]\n",
      "arr1 > arr2\n",
      "[False False  True]\n",
      "arr1 >= arr2\n",
      "[False False  True]\n",
      "arr1 < arr2\n",
      "[ True  True False]\n",
      "arr1 <= arr2\n",
      "[ True  True False]\n"
     ]
    }
   ],
   "source": [
    "import numpy as np\n",
    "from loggers import logger\n",
    "try:\n",
    "    arr1 = np.array([1, 3, 7])\n",
    "    arr2 = np.array([4, 5, 6])\n",
    "    print(\"Array a: \",arr1)\n",
    "    print(\"Array b: \",arr2)\n",
    "    print(\"arr1 > arr2\")\n",
    "    print(np.greater(arr1, arr2))\n",
    "    print(\"arr1 >= arr2\")\n",
    "    print(np.greater_equal(arr1, arr2))\n",
    "    print(\"arr1 < arr2\")\n",
    "    print(np.less(arr1, arr2))\n",
    "    print(\"arr1 <= arr2\")\n",
    "    print(np.less_equal(arr1, arr2))\n",
    "except Exception as e:\n",
    "    logger.error(e)"
   ]
  }
 ],
 "metadata": {
  "interpreter": {
   "hash": "31f2aee4e71d21fbe5cf8b01ff0e069b9275f58929596ceb00d14d90e3e16cd6"
  },
  "kernelspec": {
   "display_name": "Python 3.6.9 64-bit",
   "name": "python3"
  },
  "language_info": {
   "codemirror_mode": {
    "name": "ipython",
    "version": 3
   },
   "file_extension": ".py",
   "mimetype": "text/x-python",
   "name": "python",
   "nbconvert_exporter": "python",
   "pygments_lexer": "ipython3",
   "version": "3.6.9"
  },
  "orig_nbformat": 4
 },
 "nbformat": 4,
 "nbformat_minor": 2
}