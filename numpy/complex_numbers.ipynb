{
 "cells": [
  {
   "cell_type": "code",
   "execution_count": null,
   "metadata": {},
   "outputs": [],
   "source": [
    "***@Author: Ranjith G C***\n",
    "<br>\n",
    "***@Date: 2021-07-12***\n",
    "<br>\n",
    "***@Last Modified by: Ranjith G C***\n",
    "<br>\n",
    "***@Last Modified time: 2021-07-12*** \n",
    "<br>\n",
    "***@Title : Program Aim is to find the real and imaginary part of a complex numbers array.***"
   ]
  },
  {
   "cell_type": "code",
   "execution_count": 1,
   "metadata": {},
   "outputs": [
    {
     "name": "stdout",
     "output_type": "stream",
     "text": [
      "Original Array a: (1+0j)\n",
      "Original b: (0.7071067811865476+0.7071067811865476j)\n",
      "Real Part of Array:\n",
      "1.0\n",
      "0.7071067811865476\n",
      "Imaginary Part of Array:\n",
      "0.0\n",
      "0.7071067811865476\n"
     ]
    }
   ],
   "source": [
    "import numpy as np\n",
    "from loggers import logger\n",
    "try:\n",
    "    a = np.sqrt(1+0j)\n",
    "    b = np.sqrt(0+1j)\n",
    "    print(\"Original Array a:\", a)\n",
    "    print(\"Original b:\", b)\n",
    "    print(\"Real Part of Array:\")\n",
    "    print(a.real)\n",
    "    print(b.real)\n",
    "    print(\"Imaginary Part of Array:\")\n",
    "    print(a.imag)\n",
    "    print(b.imag)\n",
    "except Exception as e:\n",
    "    logger.error(e)"
   ]
  }
 ],
 "metadata": {
  "interpreter": {
   "hash": "df0893f56f349688326838aaeea0de204df53a132722cbd565e54b24a8fec5f6"
  },
  "kernelspec": {
   "display_name": "Python 3.8.0 64-bit",
   "name": "python3"
  },
  "language_info": {
   "codemirror_mode": {
    "name": "ipython",
    "version": 3
   },
   "file_extension": ".py",
   "mimetype": "text/x-python",
   "name": "python",
   "nbconvert_exporter": "python",
   "pygments_lexer": "ipython3",
   "version": "3.6.9"
  },
  "orig_nbformat": 4
 },
 "nbformat": 4,
 "nbformat_minor": 2
}