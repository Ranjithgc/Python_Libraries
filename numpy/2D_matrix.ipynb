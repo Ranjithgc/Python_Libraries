{
 "cells": [
  {
   "cell_type": "markdown",
   "metadata": {},
   "source": [
    "\"\"\"<br>\n",
    "@Author: Ranjith G C<br>\n",
    "@Date: 2021-07-12<br>\n",
    "@Last Modified by: Ranjith G C<br>\n",
    "@Last Modified time: 2021-07-12 <br>\n",
    "@Title : Program Aim is to create a 3*3 Matrix with values ranging from 2 to 10.<br>\n",
    "\"\"\"<br>"
   ]
  },
  {
   "cell_type": "code",
   "execution_count": 1,
   "metadata": {},
   "outputs": [
    {
     "name": "stdout",
     "output_type": "stream",
     "text": [
      "Original array: \n",
      "[[2, 3, 4], [5, 6, 7], [8, 9, 10]]\n",
      "2D Array 3*3 is:  [[ 2  3  4]\n",
      " [ 5  6  7]\n",
      " [ 8  9 10]]\n"
     ]
    }
   ],
   "source": [
    "import numpy as np\n",
    "from loggers import logger\n",
    "try:\n",
    "    l1 = [[2,3,4],[5,6,7],[8,9,10]]\n",
    "    print(\"Original array: \")\n",
    "    print(l1)\n",
    "    arr1 = np.array(l1)\n",
    "    print(\"2D Array 3*3 is: \", arr1)\n",
    "except Exception as e:\n",
    "    logger.error(e)"
   ]
  }
 ],
 "metadata": {
  "interpreter": {
   "hash": "31f2aee4e71d21fbe5cf8b01ff0e069b9275f58929596ceb00d14d90e3e16cd6"
  },
  "kernelspec": {
   "display_name": "Python 3.6.9 64-bit",
   "name": "python3"
  },
  "language_info": {
   "name": "python",
   "version": ""
  },
  "orig_nbformat": 4
 },
 "nbformat": 4,
 "nbformat_minor": 2
}