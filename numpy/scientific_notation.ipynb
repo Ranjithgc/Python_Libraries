{
 "cells": [
  {
   "cell_type": "markdown",
   "metadata": {},
   "source": [
    "***@Author: Ranjith G C***\n",
    "<br>\n",
    "***@Date: 2021-07-12***\n",
    "<br>\n",
    "***@Last Modified by: Ranjith G C***\n",
    "<br>\n",
    "***@Last Modified time: 2021-07-12*** \n",
    "<br>\n",
    "***@Title : Program Aim to suppresses the use of scientific notation for small numbers in NumPy array.***"
   ]
  },
  {
   "cell_type": "code",
   "execution_count": 1,
   "metadata": {},
   "outputs": [
    {
     "name": "stdout",
     "output_type": "stream",
     "text": [
      "Original array elements:\n",
      "[1.60e-10 1.60e+00 1.20e+03 2.35e-01]\n",
      "Print array values with precision 3:\n",
      "[   0.       1.6   1200.       0.235]\n"
     ]
    }
   ],
   "source": [
    "import numpy as np \n",
    "from loggers import logger\n",
    "try:\n",
    "    arr =np.array([1.60000000e-10, 1.60000000e+00, 1.20000000e+03, 2.35000000e-01]) \n",
    "    print(\"Original array elements:\")\n",
    "    print(arr)\n",
    "    print(\"Print array values with precision 3:\")\n",
    "    np.set_printoptions(suppress=True)\n",
    "    print(arr)\n",
    "except Exception as e:\n",
    "    logger.error(e)"
   ]
  }
 ],
 "metadata": {
  "interpreter": {
   "hash": "31f2aee4e71d21fbe5cf8b01ff0e069b9275f58929596ceb00d14d90e3e16cd6"
  },
  "kernelspec": {
   "display_name": "Python 3.6.9 64-bit",
   "name": "python3"
  },
  "language_info": {
   "codemirror_mode": {
    "name": "ipython",
    "version": 3
   },
   "file_extension": ".py",
   "mimetype": "text/x-python",
   "name": "python",
   "nbconvert_exporter": "python",
   "pygments_lexer": "ipython3",
   "version": "3.6.9"
  },
  "orig_nbformat": 4
 },
 "nbformat": 4,
 "nbformat_minor": 2
}