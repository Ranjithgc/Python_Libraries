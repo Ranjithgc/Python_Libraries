{
 "cells": [
  {
   "cell_type": "markdown",
   "metadata": {},
   "source": [
    "***@Author: Ranjith G C**\n",
    "<br>\n",
    "***@Date: 2021-07-12***\n",
    "<br>\n",
    "***@Last Modified by: Ranjith G C***\n",
    "<br>\n",
    "***@Last Modified time: 2021-07-12***\n",
    "<br>\n",
    "***@Title : Program Aim to insert a new column in existing DataFrame. ***"
   ]
  },
  {
   "cell_type": "code",
   "execution_count": 1,
   "metadata": {},
   "outputs": [
    {
     "name": "stdout",
     "output_type": "stream",
     "text": [
      "Original rows:\n",
      "   attempts       name qualify  score\n",
      "a         1  Anastasia     yes   12.5\n",
      "b         3       Dima      no    9.0\n",
      "c         2  Katherine     yes   16.5\n",
      "d         3      James      no    NaN\n",
      "e         2      Emily      no    9.0\n",
      "f         3    Michael     yes   20.0\n",
      "g         1    Matthew     yes   14.5\n",
      "h         1      Laura      no    NaN\n",
      "i         2      Kevin      no    8.0\n",
      "j         1      Jonas     yes   19.0\n",
      "\n",
      "New DataFrame after inserting the 'color' column\n",
      "   attempts       name qualify  score   color\n",
      "a         1  Anastasia     yes   12.5     Red\n",
      "b         3       Dima      no    9.0    Blue\n",
      "c         2  Katherine     yes   16.5  Orange\n",
      "d         3      James      no    NaN     Red\n",
      "e         2      Emily      no    9.0   White\n",
      "f         3    Michael     yes   20.0   White\n",
      "g         1    Matthew     yes   14.5    Blue\n",
      "h         1      Laura      no    NaN   Green\n",
      "i         2      Kevin      no    8.0   Green\n",
      "j         1      Jonas     yes   19.0     Red\n"
     ]
    }
   ],
   "source": [
    "import pandas as pd\n",
    "import numpy as np\n",
    "from loggers import logger\n",
    "\n",
    "try:\n",
    "    \n",
    "    exam_data  = {'name': ['Anastasia', 'Dima', 'Katherine', 'James', 'Emily', 'Michael', 'Matthew', 'Laura', 'Kevin', 'Jonas'],\n",
    "        'score': [12.5, 9, 16.5, np.nan, 9, 20, 14.5, np.nan, 8, 19],\n",
    "        'attempts': [1, 3, 2, 3, 2, 3, 1, 1, 2, 1],\n",
    "        'qualify': ['yes', 'no', 'yes', 'no', 'no', 'yes', 'yes', 'no', 'no', 'yes']}\n",
    "    labels = ['a', 'b', 'c', 'd', 'e', 'f', 'g', 'h', 'i', 'j']\n",
    "    \n",
    "    df = pd.DataFrame(exam_data , index=labels)\n",
    "    print(\"Original rows:\")\n",
    "    print(df)\n",
    "\n",
    "    color = ['Red','Blue','Orange','Red','White','White','Blue','Green','Green','Red']\n",
    "    df['color'] = color\n",
    "    print(\"\\nNew DataFrame after inserting the 'color' column\")\n",
    "    print(df)\n",
    "\n",
    "except Exception as e:\n",
    "    logger.error(e)"
   ]
  }
 ],
 "metadata": {
  "interpreter": {
   "hash": "31f2aee4e71d21fbe5cf8b01ff0e069b9275f58929596ceb00d14d90e3e16cd6"
  },
  "kernelspec": {
   "display_name": "Python 3.6.9 64-bit",
   "name": "python3"
  },
  "language_info": {
   "codemirror_mode": {
    "name": "ipython",
    "version": 3
   },
   "file_extension": ".py",
   "mimetype": "text/x-python",
   "name": "python",
   "nbconvert_exporter": "python",
   "pygments_lexer": "ipython3",
   "version": "3.6.9"
  },
  "orig_nbformat": 4
 },
 "nbformat": 4,
 "nbformat_minor": 2
}